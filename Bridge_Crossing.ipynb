{
 "cells": [
  {
   "cell_type": "code",
   "execution_count": 2,
   "id": "6b92d96f-17ad-4f2b-b8ff-abbdbce42ec4",
   "metadata": {},
   "outputs": [
    {
     "name": "stdout",
     "output_type": "stream",
     "text": [
      "{'Amogh': 5, 'Ameya': 10, 'GM': 20, 'GF': 25}\n"
     ]
    }
   ],
   "source": [
    "times={\"Amogh\":5,\"Ameya\":10,\"GM\":20,\"GF\":25}\n",
    "print(times)"
   ]
  },
  {
   "cell_type": "code",
   "execution_count": 3,
   "id": "cb753b66-414b-4ca8-a80a-212c29f06f72",
   "metadata": {},
   "outputs": [],
   "source": [
    "class BridgeCrossing:\n",
    "    def __init__(self):\n",
    "        self.times={\"Amogh\":5,\"Ameya\":10,\"GM\":20,\"GF\":25}\n",
    "        self.start_state=([\"Amogh\",\"Ameya\",\"GM\",\"GF\"],[],'left',0)\n",
    "        #the above one is the initial state\n",
    "\n",
    "    def goal_test(self,state):\n",
    "        left, right, umbrella, time = state\n",
    "        return len(left) == 0 and time<=60\n",
    "        #this is the final goal state\n",
    "\n",
    "    def gen_moves(self,state):\n",
    "        left,right,umbrella,time = state\n",
    "        next_states=[]\n",
    "        if(umbrella == 'left'):\n",
    "            for i in range(len(left)):\n",
    "                for j in range(i+1,len(left)):\n",
    "                    p1,p2=left[i],left[j]\n",
    "                    time_taken=max(self.times[p1],self.times[p2])\n",
    "                    new_left=left.copy()\n",
    "                    new_left.remove(p1)\n",
    "                    new_left.remove(p2)\n",
    "                    new_right=right+[p1,p2]\n",
    "                    new_state=(new_left, new_right, 'right', time+time_taken)\n",
    "                    action=f\"{p1} and {p2} cross -> {time_taken} mins\"\n",
    "                    next_states.append((new_state,action))\n",
    "        else:\n",
    "            for i in range(len(right)):\n",
    "                p=right[i]\n",
    "                time_taken=self.times[p]\n",
    "                new_right=right.copy()\n",
    "                new_right.remove(p)\n",
    "                new_left=left+[p]\n",
    "                new_state=(new_left,new_right,'left',time+time_taken)\n",
    "                action=f\"{p} returns {time_taken} mins\"\n",
    "                next_states.append((new_state,action))\n",
    "        return next_states\n",
    "\n",
    "    def bfs(self):\n",
    "        queue=[(self.start_state,[])]\n",
    "        visited=[]\n",
    "        while(queue):\n",
    "            state,path=queue.pop(0)\n",
    "            left,right,umbrella,time=state\n",
    "            state_id=(sorted(left),sorted(right),umbrella)\n",
    "            if(state_id in visited):\n",
    "                continue\n",
    "            visited.append(state_id)\n",
    "\n",
    "            if(self.goal_test(state)):\n",
    "                return path,time\n",
    "            for new_state, action in self.gen_moves(state) :\n",
    "                if new_state[3]<=60:\n",
    "                    new_path=path+[action]\n",
    "                    queue.append((new_state,new_path))\n",
    "        return None,None\n",
    "\n",
    "    def dfs(self):\n",
    "        stack=[(self.start_state,[])]\n",
    "        visited=[]\n",
    "        while(stack):\n",
    "            state,path=stack.pop()\n",
    "            left,right,umbrella,time = state\n",
    "            state_id=(sorted(left),sorted(right),umbrella)\n",
    "            if(state_id in visited):\n",
    "                continue\n",
    "            visited.append(state_id)\n",
    "            \n",
    "            if(self.goal_test(state)):\n",
    "                return path,time\n",
    "            for new_state,action in reversed(self.gen_moves(state)):\n",
    "                if(new_state[3]<=60):\n",
    "                    new_path=path+[action]\n",
    "                    stack.append((new_state,new_path))\n",
    "        return None,None\n",
    "            \n",
    "        "
   ]
  },
  {
   "cell_type": "code",
   "execution_count": 5,
   "id": "32fda4de-0682-4d7b-b852-aa78cebea465",
   "metadata": {},
   "outputs": [
    {
     "name": "stdout",
     "output_type": "stream",
     "text": [
      "steps to cross the bridge using bfs:\n",
      "Amogh and Ameya cross -> 10 mins\n",
      "Amogh returns 5 mins\n",
      "GM and GF cross -> 25 mins\n",
      "Ameya returns 10 mins\n",
      "Amogh and Ameya cross -> 10 mins\n",
      "total time: 60 minutes\n",
      "\n",
      "steps to cross the bridge using dfs:\n",
      "Amogh and Ameya cross -> 10 mins\n",
      "Amogh returns 5 mins\n",
      "GM and GF cross -> 25 mins\n",
      "Ameya returns 10 mins\n",
      "Amogh and Ameya cross -> 10 mins\n",
      "total time: 60 minutes\n"
     ]
    }
   ],
   "source": [
    "puzzle=BridgeCrossing()\n",
    "sol_path1,total_time1 = puzzle.bfs()\n",
    "sol_path2,total_time2 = puzzle.dfs()\n",
    "if sol_path1 and sol_path2:\n",
    "    print(\"steps to cross the bridge using bfs:\")\n",
    "    for step in sol_path1:\n",
    "        print(step)\n",
    "    print(\"total time:\",total_time1,\"minutes\")\n",
    "    \n",
    "    print(\"\\nsteps to cross the bridge using dfs:\")\n",
    "    for step in sol_path2:\n",
    "        print(step)\n",
    "    print(\"total time:\",total_time2,\"minutes\")\n",
    "else:\n",
    "    print(\"no solution found within 60 minutes\")"
   ]
  },
  {
   "cell_type": "code",
   "execution_count": null,
   "id": "c8baad2b-f40f-4960-819f-f4bd42204680",
   "metadata": {},
   "outputs": [],
   "source": []
  }
 ],
 "metadata": {
  "kernelspec": {
   "display_name": "Python 3 (ipykernel)",
   "language": "python",
   "name": "python3"
  },
  "language_info": {
   "codemirror_mode": {
    "name": "ipython",
    "version": 3
   },
   "file_extension": ".py",
   "mimetype": "text/x-python",
   "name": "python",
   "nbconvert_exporter": "python",
   "pygments_lexer": "ipython3",
   "version": "3.10.12"
  }
 },
 "nbformat": 4,
 "nbformat_minor": 5
}
