{
 "cells": [
  {
   "cell_type": "code",
   "execution_count": 2,
   "id": "a29ca974-d172-4ab1-a983-8e4a4203e24e",
   "metadata": {},
   "outputs": [
    {
     "name": "stdout",
     "output_type": "stream",
     "text": [
      "Path: [(0,0), (0,1), (1,2), (2,2)]\n"
     ]
    }
   ],
   "source": [
    "import math\n",
    "\n",
    "class State:\n",
    "    def __init__(self, row, col, grid):\n",
    "        self.row = row\n",
    "        self.col = col\n",
    "        self.grid = grid\n",
    "        self.n = len(grid)\n",
    "\n",
    "    def goalTest(self):\n",
    "        return self.row == self.n - 1 and self.col == self.n - 1\n",
    "\n",
    "    def moveGen(self):\n",
    "        children = []\n",
    "        directions = [(1,1),(-1,-1),(1,0),(0,1),(-1,0),(0,-1),(1,-1),(-1,1)]\n",
    "        if self.grid[self.row][self.col] == 0:\n",
    "            for dr, dc in directions:\n",
    "                new_row = self.row + dr\n",
    "                new_col = self.col + dc\n",
    "                if 0 <= new_row < self.n and 0 <= new_col < self.n:\n",
    "                    if self.grid[new_row][new_col] == 0:\n",
    "                        children.append(State(new_row, new_col, self.grid))\n",
    "        return children\n",
    "\n",
    "    def h(self):\n",
    "        return math.sqrt((self.row - (self.n - 1))**2 + (self.col - (self.n - 1))**2)\n",
    "\n",
    "    def __repr__(self):\n",
    "        return f\"({self.row},{self.col})\"\n",
    "\n",
    "def ReconstructPath(node_triplet, closed_list):\n",
    "    path = []\n",
    "    current = node_triplet\n",
    "    while current is not None:\n",
    "        node, parent, h_val = current\n",
    "        path.append(node)\n",
    "        current = next((trip for trip in closed_list if trip[0] == parent), None)\n",
    "    path.reverse()\n",
    "    return path\n",
    "\n",
    "def BestFirstSearch(start):\n",
    "    open_list = [(start, None, start.h())]\n",
    "    closed_list = []\n",
    "\n",
    "    while open_list:\n",
    "        open_list.sort(key=lambda x: x[2])\n",
    "        node_triplet = open_list.pop(0)\n",
    "        N, parent, h_val = node_triplet\n",
    "\n",
    "        if N.goalTest():\n",
    "            return ReconstructPath(node_triplet, closed_list)\n",
    "\n",
    "        closed_list.append(node_triplet)\n",
    "        children = N.moveGen()\n",
    "\n",
    "        for child in children:\n",
    "            if not any(child.row == seen[0].row and child.col == seen[0].col for seen in closed_list):\n",
    "                if not any(child.row == seen[0].row and child.col == seen[0].col for seen in open_list):\n",
    "                    open_list.append((child, N, child.h()))\n",
    "\n",
    "    return None\n",
    "\n",
    "# Example\n",
    "grid = [\n",
    "     [0,0,0],\n",
    "    [1,1,0],\n",
    "    [1,1,0]\n",
    "]\n",
    "\n",
    "start = State(0,0,grid)\n",
    "path = BestFirstSearch(start)\n",
    "print(\"Path:\", path)\n"
   ]
  },
  {
   "cell_type": "code",
   "execution_count": null,
   "id": "48182ef0-7bc0-439a-80fc-250038d4d019",
   "metadata": {},
   "outputs": [],
   "source": [
    "#Best First Search (Greedy) chooses nodes only based on the heuristic (h value).\n",
    "#It may reach the goal faster but is not guaranteed to find the shortest path in all cases.\n",
    "#A* considers both the cost so far (g) and the heuristic (h), making it optimal if the heuristic is admissible (never overestimates).\n",
    "#A* often expands more nodes than Best First Search but ensures the shortest valid path."
   ]
  }
 ],
 "metadata": {
  "kernelspec": {
   "display_name": "Python 3 (ipykernel)",
   "language": "python",
   "name": "python3"
  },
  "language_info": {
   "codemirror_mode": {
    "name": "ipython",
    "version": 3
   },
   "file_extension": ".py",
   "mimetype": "text/x-python",
   "name": "python",
   "nbconvert_exporter": "python",
   "pygments_lexer": "ipython3",
   "version": "3.10.12"
  }
 },
 "nbformat": 4,
 "nbformat_minor": 5
}
